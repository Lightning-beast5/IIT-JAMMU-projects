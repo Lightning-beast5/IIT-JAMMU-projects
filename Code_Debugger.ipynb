{
  "nbformat": 4,
  "nbformat_minor": 0,
  "metadata": {
    "colab": {
      "provenance": [],
      "authorship_tag": "ABX9TyPhcFED80Ztn4dhckdJAx8r",
      "include_colab_link": true
    },
    "kernelspec": {
      "name": "python3",
      "display_name": "Python 3"
    },
    "language_info": {
      "name": "python"
    }
  },
  "cells": [
    {
      "cell_type": "markdown",
      "metadata": {
        "id": "view-in-github",
        "colab_type": "text"
      },
      "source": [
        "<a href=\"https://colab.research.google.com/github/Lightning-beast5/IIT-JAMMU-projects/blob/main/Code_Debugger.ipynb\" target=\"_parent\"><img src=\"https://colab.research.google.com/assets/colab-badge.svg\" alt=\"Open In Colab\"/></a>"
      ]
    },
    {
      "cell_type": "markdown",
      "source": [
        "## CODE DEBUGGER"
      ],
      "metadata": {
        "id": "96ctkPczNrUx"
      }
    },
    {
      "cell_type": "code",
      "execution_count": 1,
      "metadata": {
        "colab": {
          "base_uri": "https://localhost:8080/",
          "height": 75
        },
        "id": "GS8Gda13_k6M",
        "outputId": "6b9eac09-1832-4735-96da-9e261f6d85c5"
      },
      "outputs": [
        {
          "output_type": "display_data",
          "data": {
            "text/plain": [
              "<IPython.core.display.HTML object>"
            ],
            "text/html": [
              "\n",
              "     <input type=\"file\" id=\"files-11bfbf22-31d7-48b5-9150-cc97ef936378\" name=\"files[]\" multiple disabled\n",
              "        style=\"border:none\" />\n",
              "     <output id=\"result-11bfbf22-31d7-48b5-9150-cc97ef936378\">\n",
              "      Upload widget is only available when the cell has been executed in the\n",
              "      current browser session. Please rerun this cell to enable.\n",
              "      </output>\n",
              "      <script>// Copyright 2017 Google LLC\n",
              "//\n",
              "// Licensed under the Apache License, Version 2.0 (the \"License\");\n",
              "// you may not use this file except in compliance with the License.\n",
              "// You may obtain a copy of the License at\n",
              "//\n",
              "//      http://www.apache.org/licenses/LICENSE-2.0\n",
              "//\n",
              "// Unless required by applicable law or agreed to in writing, software\n",
              "// distributed under the License is distributed on an \"AS IS\" BASIS,\n",
              "// WITHOUT WARRANTIES OR CONDITIONS OF ANY KIND, either express or implied.\n",
              "// See the License for the specific language governing permissions and\n",
              "// limitations under the License.\n",
              "\n",
              "/**\n",
              " * @fileoverview Helpers for google.colab Python module.\n",
              " */\n",
              "(function(scope) {\n",
              "function span(text, styleAttributes = {}) {\n",
              "  const element = document.createElement('span');\n",
              "  element.textContent = text;\n",
              "  for (const key of Object.keys(styleAttributes)) {\n",
              "    element.style[key] = styleAttributes[key];\n",
              "  }\n",
              "  return element;\n",
              "}\n",
              "\n",
              "// Max number of bytes which will be uploaded at a time.\n",
              "const MAX_PAYLOAD_SIZE = 100 * 1024;\n",
              "\n",
              "function _uploadFiles(inputId, outputId) {\n",
              "  const steps = uploadFilesStep(inputId, outputId);\n",
              "  const outputElement = document.getElementById(outputId);\n",
              "  // Cache steps on the outputElement to make it available for the next call\n",
              "  // to uploadFilesContinue from Python.\n",
              "  outputElement.steps = steps;\n",
              "\n",
              "  return _uploadFilesContinue(outputId);\n",
              "}\n",
              "\n",
              "// This is roughly an async generator (not supported in the browser yet),\n",
              "// where there are multiple asynchronous steps and the Python side is going\n",
              "// to poll for completion of each step.\n",
              "// This uses a Promise to block the python side on completion of each step,\n",
              "// then passes the result of the previous step as the input to the next step.\n",
              "function _uploadFilesContinue(outputId) {\n",
              "  const outputElement = document.getElementById(outputId);\n",
              "  const steps = outputElement.steps;\n",
              "\n",
              "  const next = steps.next(outputElement.lastPromiseValue);\n",
              "  return Promise.resolve(next.value.promise).then((value) => {\n",
              "    // Cache the last promise value to make it available to the next\n",
              "    // step of the generator.\n",
              "    outputElement.lastPromiseValue = value;\n",
              "    return next.value.response;\n",
              "  });\n",
              "}\n",
              "\n",
              "/**\n",
              " * Generator function which is called between each async step of the upload\n",
              " * process.\n",
              " * @param {string} inputId Element ID of the input file picker element.\n",
              " * @param {string} outputId Element ID of the output display.\n",
              " * @return {!Iterable<!Object>} Iterable of next steps.\n",
              " */\n",
              "function* uploadFilesStep(inputId, outputId) {\n",
              "  const inputElement = document.getElementById(inputId);\n",
              "  inputElement.disabled = false;\n",
              "\n",
              "  const outputElement = document.getElementById(outputId);\n",
              "  outputElement.innerHTML = '';\n",
              "\n",
              "  const pickedPromise = new Promise((resolve) => {\n",
              "    inputElement.addEventListener('change', (e) => {\n",
              "      resolve(e.target.files);\n",
              "    });\n",
              "  });\n",
              "\n",
              "  const cancel = document.createElement('button');\n",
              "  inputElement.parentElement.appendChild(cancel);\n",
              "  cancel.textContent = 'Cancel upload';\n",
              "  const cancelPromise = new Promise((resolve) => {\n",
              "    cancel.onclick = () => {\n",
              "      resolve(null);\n",
              "    };\n",
              "  });\n",
              "\n",
              "  // Wait for the user to pick the files.\n",
              "  const files = yield {\n",
              "    promise: Promise.race([pickedPromise, cancelPromise]),\n",
              "    response: {\n",
              "      action: 'starting',\n",
              "    }\n",
              "  };\n",
              "\n",
              "  cancel.remove();\n",
              "\n",
              "  // Disable the input element since further picks are not allowed.\n",
              "  inputElement.disabled = true;\n",
              "\n",
              "  if (!files) {\n",
              "    return {\n",
              "      response: {\n",
              "        action: 'complete',\n",
              "      }\n",
              "    };\n",
              "  }\n",
              "\n",
              "  for (const file of files) {\n",
              "    const li = document.createElement('li');\n",
              "    li.append(span(file.name, {fontWeight: 'bold'}));\n",
              "    li.append(span(\n",
              "        `(${file.type || 'n/a'}) - ${file.size} bytes, ` +\n",
              "        `last modified: ${\n",
              "            file.lastModifiedDate ? file.lastModifiedDate.toLocaleDateString() :\n",
              "                                    'n/a'} - `));\n",
              "    const percent = span('0% done');\n",
              "    li.appendChild(percent);\n",
              "\n",
              "    outputElement.appendChild(li);\n",
              "\n",
              "    const fileDataPromise = new Promise((resolve) => {\n",
              "      const reader = new FileReader();\n",
              "      reader.onload = (e) => {\n",
              "        resolve(e.target.result);\n",
              "      };\n",
              "      reader.readAsArrayBuffer(file);\n",
              "    });\n",
              "    // Wait for the data to be ready.\n",
              "    let fileData = yield {\n",
              "      promise: fileDataPromise,\n",
              "      response: {\n",
              "        action: 'continue',\n",
              "      }\n",
              "    };\n",
              "\n",
              "    // Use a chunked sending to avoid message size limits. See b/62115660.\n",
              "    let position = 0;\n",
              "    do {\n",
              "      const length = Math.min(fileData.byteLength - position, MAX_PAYLOAD_SIZE);\n",
              "      const chunk = new Uint8Array(fileData, position, length);\n",
              "      position += length;\n",
              "\n",
              "      const base64 = btoa(String.fromCharCode.apply(null, chunk));\n",
              "      yield {\n",
              "        response: {\n",
              "          action: 'append',\n",
              "          file: file.name,\n",
              "          data: base64,\n",
              "        },\n",
              "      };\n",
              "\n",
              "      let percentDone = fileData.byteLength === 0 ?\n",
              "          100 :\n",
              "          Math.round((position / fileData.byteLength) * 100);\n",
              "      percent.textContent = `${percentDone}% done`;\n",
              "\n",
              "    } while (position < fileData.byteLength);\n",
              "  }\n",
              "\n",
              "  // All done.\n",
              "  yield {\n",
              "    response: {\n",
              "      action: 'complete',\n",
              "    }\n",
              "  };\n",
              "}\n",
              "\n",
              "scope.google = scope.google || {};\n",
              "scope.google.colab = scope.google.colab || {};\n",
              "scope.google.colab._files = {\n",
              "  _uploadFiles,\n",
              "  _uploadFilesContinue,\n",
              "};\n",
              "})(self);\n",
              "</script> "
            ]
          },
          "metadata": {}
        },
        {
          "output_type": "stream",
          "name": "stdout",
          "text": [
            "Saving p1.c to p1.c\n"
          ]
        }
      ],
      "source": [
        "#Upload file containing code\n",
        "from google.colab import files\n",
        "uploaded=files.upload()\n",
        "filename=list(uploaded.keys())[0]\n"
      ]
    },
    {
      "cell_type": "code",
      "source": [
        "#Read the uploaded data\n",
        "with open(filename,'r') as f:\n",
        "  code=f.read()\n",
        "print(code)"
      ],
      "metadata": {
        "colab": {
          "base_uri": "https://localhost:8080/"
        },
        "id": "O5t9iC-2Aizv",
        "outputId": "8366d75c-8873-47c3-df8b-95bfcbacd6b0"
      },
      "execution_count": 2,
      "outputs": [
        {
          "output_type": "stream",
          "name": "stdout",
          "text": [
            "#include<stdlib.h>\n",
            "#include<string.h>\n",
            "int main(){\n",
            "    int a=5;\n",
            "    int b=10;\n",
            "    printf(a+b)\n",
            "    return 0;\n",
            "}\n"
          ]
        }
      ]
    },
    {
      "cell_type": "code",
      "source": [
        "#Run code and find errors\n",
        "import traceback\n",
        "error_message=None\n",
        "try:\n",
        "    exec(code)\n",
        "except Exception as e:\n",
        "    error_message=traceback.format_exc()\n",
        "    print(\"\\n Error occured :\\n\")\n",
        "    print(error_message)"
      ],
      "metadata": {
        "colab": {
          "base_uri": "https://localhost:8080/"
        },
        "id": "uGMtV8InBHxf",
        "outputId": "f9f3e395-9424-441e-a7ed-bd4d0fcc0dd9"
      },
      "execution_count": 3,
      "outputs": [
        {
          "output_type": "stream",
          "name": "stdout",
          "text": [
            "\n",
            " Error occured :\n",
            "\n",
            "Traceback (most recent call last):\n",
            "  File \"/tmp/ipython-input-2614516621.py\", line 5, in <cell line: 0>\n",
            "    exec(code)\n",
            "  File \"<string>\", line 3\n",
            "    int main(){\n",
            "        ^^^^\n",
            "SyntaxError: invalid syntax\n",
            "\n"
          ]
        }
      ]
    },
    {
      "cell_type": "code",
      "source": [
        "!pip install -q -U google-genai\n",
        "import google.generativeai as genai\n",
        "from google.colab import userdata\n",
        "import os\n",
        "os.environ[\"GOOGLE_API_KEY\"] = userdata.get('GOOGLE_API_KEY')\n",
        "genai.configure(api_key=os.environ[\"GOOGLE_API_KEY\"])"
      ],
      "metadata": {
        "id": "P3J8HNRqI2e0",
        "colab": {
          "base_uri": "https://localhost:8080/"
        },
        "outputId": "f40149b0-786a-4424-d520-7d5a6d5997ff"
      },
      "execution_count": 4,
      "outputs": [
        {
          "output_type": "stream",
          "name": "stdout",
          "text": [
            "\u001b[?25l     \u001b[90m━━━━━━━━━━━━━━━━━━━━━━━━━━━━━━━━━━━━━━━━\u001b[0m \u001b[32m0.0/43.1 kB\u001b[0m \u001b[31m?\u001b[0m eta \u001b[36m-:--:--\u001b[0m\r\u001b[2K     \u001b[90m━━━━━━━━━━━━━━━━━━━━━━━━━━━━━━━━━━━━━━━━\u001b[0m \u001b[32m43.1/43.1 kB\u001b[0m \u001b[31m1.7 MB/s\u001b[0m eta \u001b[36m0:00:00\u001b[0m\n",
            "\u001b[?25h\u001b[?25l   \u001b[90m━━━━━━━━━━━━━━━━━━━━━━━━━━━━━━━━━━━━━━━━\u001b[0m \u001b[32m0.0/231.9 kB\u001b[0m \u001b[31m?\u001b[0m eta \u001b[36m-:--:--\u001b[0m\r\u001b[2K   \u001b[90m━━━━━━━━━━━━━━━━━━━━━━━━━━━━━━━━━━━━━━━━\u001b[0m \u001b[32m231.9/231.9 kB\u001b[0m \u001b[31m7.1 MB/s\u001b[0m eta \u001b[36m0:00:00\u001b[0m\n",
            "\u001b[?25h"
          ]
        }
      ]
    },
    {
      "cell_type": "code",
      "source": [
        "import google.generativeai as genai\n",
        "import os\n",
        "\n",
        "if error_message:\n",
        "  genai.configure(api_key=os.environ[\"GOOGLE_API_KEY\"])\n",
        "  model = genai.GenerativeModel('gemini-2.5-flash')\n",
        "  chat = model.start_chat(history=[\n",
        "      {\"role\": \"user\", \"parts\": [f\"The code has an error. Help fix it.\\n\\nCode:\\n{code}\\n\\nError:\\n{error_message}\"]},\n",
        "  ])\n",
        "  print(\"\\nSuggestion:\\n\")\n",
        "  response = chat.send_message(f\"The code has an error. Help fix it.\\n\\nCode:\\n{code}\\n\\nError:\\n{error_message}\")\n",
        "  print(response.text)\n",
        "else:\n",
        "  print(\"Code ran successfully, no errors to debug!\")"
      ],
      "metadata": {
        "colab": {
          "base_uri": "https://localhost:8080/",
          "height": 948
        },
        "id": "OkkVo8FIB_TI",
        "outputId": "ba523603-b256-46ec-a57c-14996bdd9c98"
      },
      "execution_count": 5,
      "outputs": [
        {
          "output_type": "stream",
          "name": "stdout",
          "text": [
            "\n",
            "Suggestion:\n",
            "\n",
            "The error you're seeing (`SyntaxError: invalid syntax`) indicates that the C code is being interpreted by a Python interpreter, not compiled by a C compiler. Python doesn't understand C syntax like `int main()` or `#include`.\n",
            "\n",
            "However, even if you were to compile it as C, the `printf` statement has an error.\n",
            "\n",
            "Here's the corrected C code with explanations:\n",
            "\n",
            "```c\n",
            "#include <stdio.h> // Required for printf\n",
            "#include <stdlib.h>\n",
            "#include <string.h> // Not strictly necessary for this simple code, but good practice if needed\n",
            "\n",
            "int main(){\n",
            "    int a = 5;\n",
            "    int b = 10;\n",
            "    printf(\"%d\\n\", a + b); // Corrected printf usage\n",
            "    return 0;\n",
            "}\n",
            "```\n",
            "\n",
            "**Explanation of Changes and Fixes:**\n",
            "\n",
            "1.  **`#include <stdio.h>`:** The `printf` function is part of the standard input/output library in C, which is included using `stdio.h`. This header was missing in your original code.\n",
            "2.  **`printf(\"%d\\n\", a + b);`:**\n",
            "    *   `printf` requires a **format string** as its first argument. `\"%d\"` tells `printf` that you want to print an integer.\n",
            "    *   `a + b` is the value you want to print, which matches the `%d` format specifier.\n",
            "    *   `\\n` adds a newline character, so the output appears on a new line.\n",
            "    *   All statements in C must end with a semicolon (`;`). Your original `printf(a+b)` was missing this.\n",
            "\n",
            "**How to run this C code:**\n",
            "\n",
            "To run this code, you need a C compiler (like GCC, which is common on Linux/macOS and available for Windows via MinGW/Cygwin).\n",
            "\n",
            "1.  **Save the code:** Save the corrected code in a file named `main.c` (or any name ending with `.c`).\n",
            "2.  **Compile:** Open a terminal or command prompt and use the compiler:\n",
            "    ```bash\n",
            "    gcc main.c -o myprogram\n",
            "    ```\n",
            "    This command compiles `main.c` and creates an executable file named `myprogram` (or `myprogram.exe` on Windows).\n",
            "3.  **Run:** Execute the compiled program:\n",
            "    ```bash\n",
            "    ./myprogram\n",
            "    ```\n",
            "\n",
            "**Expected Output:**\n",
            "\n",
            "```\n",
            "15\n",
            "```\n"
          ]
        }
      ]
    }
  ]
}